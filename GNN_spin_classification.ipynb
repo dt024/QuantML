{
  "cells": [
    {
      "attachments": {},
      "cell_type": "markdown",
      "metadata": {
        "id": "oVFrN5Qc9SPY"
      },
      "source": [
        "# Install depedencies and importing"
      ]
    },
    {
      "cell_type": "code",
      "execution_count": 1,
      "metadata": {
        "id": "jEwD8dePa0MY"
      },
      "outputs": [],
      "source": [
        "import torch\n",
        "from torch_geometric.data import Data\n",
        "from torch_geometric.loader import DataLoader\n",
        "from torch.nn import Linear\n",
        "import torch.nn.functional as F\n",
        "import os\n",
        "import random\n",
        "import numpy as np\n",
        "import json\n",
        "import tqdm\n",
        "import networkx as nx\n",
        "from collections import defaultdict\n",
        "from time import time\n",
        "\n"
      ]
    },
    {
      "cell_type": "code",
      "execution_count": 2,
      "metadata": {
        "id": "3gliop6gyzGL"
      },
      "outputs": [
        {
          "name": "stdout",
          "output_type": "stream",
          "text": [
            "Will use device: cuda, torch dtype: torch.float64\n"
          ]
        }
      ],
      "source": [
        "# fix seed to ensure consistent results\n",
        "seed_value = 1\n",
        "random.seed(seed_value)        # seed python RNG\n",
        "np.random.seed(seed_value)     # seed global NumPy RNG\n",
        "torch.manual_seed(seed_value)  # seed torch RNG\n",
        "\n",
        "# Set GPU/CPU\n",
        "TORCH_DEVICE = torch.device('cuda' if torch.cuda.is_available() else 'cpu')\n",
        "TORCH_DTYPE = torch.float64\n",
        "print(f'Will use device: {TORCH_DEVICE}, torch dtype: {TORCH_DTYPE}')\n"
      ]
    },
    {
      "cell_type": "code",
      "execution_count": 3,
      "metadata": {
        "id": "oqSkrYAYjWoJ"
      },
      "outputs": [],
      "source": [
        "# 0 1 -2\n",
        "# 0 2 -4\n",
        "# 1 2 2\n",
        "# 1 3 -1\n",
        "# 2 3 -6\n",
        "# 3 4 3\n",
        "# 4 5 4\n",
        "# 4 6 4\n",
        "# 5 6 -1\n",
        "# 6 7 3\n",
        "# 6 8 3\n",
        "# 7 8 -1\n",
        "# 7 9 3\n",
        "# 8 9 2\t\n",
        "fastHare_data = {}\n",
        "fastHare_data['H'] = {i:0 for i in range(10)}\n",
        "fastHare_data['edges'] = {'0':[0,1],\n",
        "                          '1':[0,2],\n",
        "                          '2':[1,2],\n",
        "                          '3':[1,3],\n",
        "                          '4':[2,3],\n",
        "                          '5':[3,4],\n",
        "                          '6':[4,5],\n",
        "                          '7':[4,6],\n",
        "                          '8':[5,6],\n",
        "                          '9':[6,7],\n",
        "                          '10':[6,8],\n",
        "                          '11':[7,8],\n",
        "                          '12':[7,9],\n",
        "                          '13':[8,9]}\n",
        "fastHare_data['J'] =     {'0':-2,\n",
        "                          '1':-4,\n",
        "                          '2':2,\n",
        "                          '3':-1,\n",
        "                          '4':-6,\n",
        "                          '5':3,\n",
        "                          '6':4,\n",
        "                          '7':4,\n",
        "                          '8':-1,\n",
        "                          '9':3,\n",
        "                          '10':3,\n",
        "                          '11':-1,\n",
        "                          '12':3,\n",
        "                          '13':2}\n",
        "fastHare_data['label'] = [1, -1, -1, 1, 1, 1, 1, 1, 1, 1]"
      ]
    },
    {
      "cell_type": "code",
      "execution_count": 4,
      "metadata": {
        "id": "HjEvXCrobwVz"
      },
      "outputs": [],
      "source": [
        "# from torch._C import FileCheck\n",
        "# DIR = '/content/drive/MyDrive/erdos_renyi'\n",
        "# graph_data = []\n",
        "# for file in tqdm.tqdm(os.listdir(DIR)):\n",
        "#   if 'graph' not in file:\n",
        "#     continue\n",
        "#   path = DIR+'/'+file\n",
        "#   f = open(path)\n",
        "#   fastHare_data = json.load(f)\n",
        "#   src = []\n",
        "#   dst = []\n",
        "#   for v in fastHare_data['edges'].values():\n",
        "#     src.append(v[0])\n",
        "#     dst.append(v[1])\n",
        "#   virtual_idx = len(fastHare_data['H'])\n",
        "#   src.extend([int(i) for i in fastHare_data['H'].keys()])\n",
        "#   dst.extend([virtual_idx for _ in range(len(fastHare_data['H']))])\n",
        "#   src.extend([virtual_idx for _ in range(len(fastHare_data['H']))])\n",
        "#   dst.extend([int(i) for i in fastHare_data['H'].keys()])\n",
        "\n",
        "#   edge_index = torch.tensor([src,dst], dtype=torch.long)\n",
        "#   edge_attr = [v for v in fastHare_data['J'].values()]\n",
        "#   edge_attr.extend(list(fastHare_data['H'].values()))\n",
        "#   edge_attr.extend(list(fastHare_data['H'].values()))\n",
        "#   edge_attr = F.normalize(torch.tensor(edge_attr, dtype=torch.float),dim=-1).unsqueeze(dim=-1)\n",
        "\n",
        "#   # x = F.normalize(torch.tensor([v for v in data['H'].values()], dtype=torch.float),dim=-1).unsqueeze(dim=-1)\n",
        "#   y = torch.tensor([0 if v==-1 else v for v in fastHare_data['label']], dtype=torch.long)\n",
        "#   # graph_data.append(Data(x=x, edge_index=edge_index, y=y, edge_attr=edge_attr))\n",
        "#   break"
      ]
    },
    {
      "cell_type": "code",
      "execution_count": 5,
      "metadata": {
        "id": "NTUwTlInlDwj"
      },
      "outputs": [],
      "source": [
        "src = []\n",
        "dst = []\n",
        "for v in fastHare_data['edges'].values():\n",
        "  src.append(v[0])\n",
        "  dst.append(v[1])\n",
        "for v in fastHare_data['edges'].values():\n",
        "  src.append(v[1])\n",
        "  dst.append(v[0])\n",
        "\n",
        "# virtual_idx = len(fastHare_data['H'])\n",
        "# src.extend([int(i) for i in fastHare_data['H'].keys()])\n",
        "# dst.extend([virtual_idx for _ in range(len(fastHare_data['H']))])\n",
        "# src.extend([virtual_idx for _ in range(len(fastHare_data['H']))])\n",
        "# dst.extend([int(i) for i in fastHare_data['H'].keys()])\n",
        "\n",
        "edge_index = torch.tensor([src,dst], dtype=torch.long)\n",
        "edge_attr = [v for v in fastHare_data['J'].values()]\n",
        "edge_attr.extend(list(fastHare_data['J'].values()))\n",
        "\n",
        "# edge_attr.extend(list(fastHare_data['H'].values()))\n",
        "# edge_attr.extend(list(fastHare_data['H'].values()))\n",
        "edge_attr = torch.tensor(edge_attr, dtype=TORCH_DTYPE)\n",
        "# edge_attr = F.normalize(torch.tensor(edge_attr, dtype=torch.float),dim=-1).unsqueeze(dim=-1)\n",
        "\n",
        "# x = F.normalize(torch.tensor([v for v in data['H'].values()], dtype=torch.float),dim=-1).unsqueeze(dim=-1)\n",
        "y = torch.tensor([0 if v==-1 else v for v in fastHare_data['label']], dtype=torch.long)\n"
      ]
    },
    {
      "cell_type": "code",
      "execution_count": 6,
      "metadata": {
        "id": "RoPg_xc_wx6Q"
      },
      "outputs": [],
      "source": [
        "# x = [1 for _ in range(virtual_idx+1)]\n",
        "# mask = [True for _ in range(virtual_idx+1)]\n",
        "x = [1 for _ in range(len(fastHare_data['H']))]\n",
        "mask = [True for _ in range(len(fastHare_data['H']))]\n",
        "\n",
        "mask[-1] = False\n",
        "x = torch.tensor(x, dtype=TORCH_DTYPE)\n",
        "mask = torch.tensor(mask)\n",
        "data = Data(x=x, edge_index=edge_index, y=y,edge_attr=edge_attr, test_mask=mask)"
      ]
    },
    {
      "cell_type": "code",
      "execution_count": 7,
      "metadata": {
        "id": "V3CNS7TGcJr6"
      },
      "outputs": [],
      "source": [
        "# print(len(graph_data))\n",
        "# num_train_obs = 4500\n",
        "# train_loader = DataLoader(graph_data[:num_train_obs], batch_size=2)\n",
        "# test_loader = DataLoader(graph_data[num_train_obs:], batch_size=1)"
      ]
    },
    {
      "attachments": {},
      "cell_type": "markdown",
      "metadata": {
        "id": "4HUUK8rR22FQ"
      },
      "source": [
        "# Test with FastHare"
      ]
    },
    {
      "cell_type": "code",
      "execution_count": null,
      "metadata": {
        "id": "Ha6NWFwf25Hd"
      },
      "outputs": [],
      "source": [
        "! pip install dwave-ocean-sdk gravis \n"
      ]
    },
    {
      "cell_type": "code",
      "execution_count": 15,
      "metadata": {
        "id": "Xkt-1H3yl9DX"
      },
      "outputs": [
        {
          "name": "stdout",
          "output_type": "stream",
          "text": [
            "/home/tuannmd/FastHare\n"
          ]
        }
      ],
      "source": [
        "# ! git clone \"https://github.com/thang-dinh/FastHare.git\"\n",
        "# Move into the FastHare folder\n",
        "%cd ../FastHare\n",
        "# Install the FastHare module\n"
      ]
    },
    {
      "cell_type": "code",
      "execution_count": 9,
      "metadata": {
        "id": "f6uAajBy3cUS"
      },
      "outputs": [],
      "source": [
        "J = {}\n",
        "for k in fastHare_data['edges'].keys():\n",
        "  edge = (fastHare_data['edges'][k][0],fastHare_data['edges'][k][1])\n",
        "  weight =  fastHare_data['J'][k]\n",
        "  J[edge]=weight\n",
        "h = {int(k):1 for k,v in fastHare_data['H'].items()}\n"
      ]
    },
    {
      "cell_type": "code",
      "execution_count": 10,
      "metadata": {
        "id": "IR7EYo9y3Qnx"
      },
      "outputs": [
        {
          "name": "stdout",
          "output_type": "stream",
          "text": [
            "   0  1  2  3  4  5  6  7  8  9 energy num_oc.\n",
            "1 -1 -1 -1 -1 +1 -1 -1 +1 +1 -1  -39.0    8712\n",
            "3 -1 -1 -1 -1 -1 +1 +1 -1 -1 +1  -33.0     587\n",
            "0 +1 +1 +1 +1 -1 +1 +1 -1 -1 +1  -31.0     349\n",
            "2 +1 -1 +1 +1 -1 +1 +1 -1 -1 +1  -31.0     352\n",
            "['SPIN', 4 rows, 10000 samples, 10 variables]\n",
            "Best solution has a minimum energy  -39.0\n"
          ]
        }
      ],
      "source": [
        "import neal\n",
        "\n",
        "# Solve the Ising using simulated annealing (SA)\n",
        "sa = neal.SimulatedAnnealingSampler()\n",
        "sample_set_sa = sa.sample_ising(h, J, num_reads = 10000)\n",
        "print(sample_set_sa.aggregate() )\n",
        "print(\"Best solution has a minimum energy \", sample_set_sa.first.energy)"
      ]
    },
    {
      "cell_type": "code",
      "execution_count": 16,
      "metadata": {
        "id": "yCiKdg0ql7Dy"
      },
      "outputs": [
        {
          "name": "stdout",
          "output_type": "stream",
          "text": [
            "FastHare: Reduced 100% variables. Exact solution found.\n",
            "   0  1  2  3  4  5  6  7  8  9 energy num_oc.\n",
            "0 -1 -1 -1 -1 +1 -1 -1 +1 +1 -1  -39.0       1\n",
            "['SPIN', 1 rows, 1 samples, 10 variables]\n",
            "Best solution has a minimum energy  -39.0\n"
          ]
        }
      ],
      "source": [
        "from FastHareComposite import FastHareComposite\n",
        "\n",
        "# Use FastHare composite to preprocess instance before sovling\n",
        "# Solve the Ising using simulated annealing (SA)\n",
        "fh_sa = FastHareComposite(sa)\n",
        "sample_set_fh = fh_sa.sample_ising(h, J, num_reads = 10000)\n",
        "print(sample_set_fh.aggregate())\n",
        "print(\"Best solution has a minimum energy \", sample_set_fh.first.energy)\n",
        "# Display the best solution for SA. Blue spins/nodes: -1, Yellow spins/nodes: +1\n",
        "# hg.draw(display_method = \"notebook\", html_file =\"fasthare.html\",sample = sample_set_fh.first.sample)"
      ]
    },
    {
      "cell_type": "code",
      "execution_count": 17,
      "metadata": {
        "id": "cmlIi-CUsvSI"
      },
      "outputs": [
        {
          "name": "stdout",
          "output_type": "stream",
          "text": [
            "Using list of triples i, j, h_ij\n"
          ]
        },
        {
          "ename": "NameError",
          "evalue": "name 'sk_ising' is not defined",
          "output_type": "error",
          "traceback": [
            "\u001b[0;31m---------------------------------------------------------------------------\u001b[0m",
            "\u001b[0;31mNameError\u001b[0m                                 Traceback (most recent call last)",
            "Cell \u001b[0;32mIn[17], line 4\u001b[0m\n\u001b[1;32m      2\u001b[0m \u001b[39mprint\u001b[39m(\u001b[39m\"\u001b[39m\u001b[39mUsing list of triples i, j, h_ij\u001b[39m\u001b[39m\"\u001b[39m)\n\u001b[1;32m      3\u001b[0m \u001b[39m# sk_ising = [(0, 1, -3)] # SK Hamiltonian: min - (-3 * x_0  * x_1 )\u001b[39;00m\n\u001b[0;32m----> 4\u001b[0m \u001b[39mprint\u001b[39m(m\u001b[39m.\u001b[39mfasthare_reduction(sk_ising,alpha\u001b[39m=\u001b[39m\u001b[39m0.2\u001b[39m) )\n\u001b[1;32m      5\u001b[0m rh, \u001b[39mmap\u001b[39m, sign, time1 \u001b[39m=\u001b[39m m\u001b[39m.\u001b[39mfasthare_reduction(sk_ising,alpha\u001b[39m=\u001b[39m\u001b[39m0.2\u001b[39m)\n\u001b[1;32m      7\u001b[0m \u001b[39m# Or using the exp3.net in the \"tests\" folder\u001b[39;00m\n\u001b[1;32m      8\u001b[0m \u001b[39m# print(\"Reading triples i, j, h_ij from file\")\u001b[39;00m\n\u001b[1;32m      9\u001b[0m \u001b[39m# rh, map, sign, time1 = m.fasthare_reduction(file =\"exp3.net\",alpha=0.2)\u001b[39;00m\n",
            "\u001b[0;31mNameError\u001b[0m: name 'sk_ising' is not defined"
          ]
        }
      ],
      "source": [
        "import fasthare as m\n",
        "print(\"Using list of triples i, j, h_ij\")\n",
        "# sk_ising = [(0, 1, -3)] # SK Hamiltonian: min - (-3 * x_0  * x_1 )\n",
        "print(m.fasthare_reduction(sk_ising,alpha=0.2) )\n",
        "rh, map, sign, time1 = m.fasthare_reduction(sk_ising,alpha=0.2)\n",
        "\n",
        "# Or using the exp3.net in the \"tests\" folder\n",
        "# print(\"Reading triples i, j, h_ij from file\")\n",
        "# rh, map, sign, time1 = m.fasthare_reduction(file =\"exp3.net\",alpha=0.2)\n",
        "print(rh) \n",
        "print(map)\n",
        "print(sign)\n",
        "print(time1)\n"
      ]
    },
    {
      "cell_type": "code",
      "execution_count": 21,
      "metadata": {
        "id": "jnPj51ckEIuJ"
      },
      "outputs": [
        {
          "ename": "TypeError",
          "evalue": "object of type 'type' has no len()",
          "output_type": "error",
          "traceback": [
            "\u001b[0;31m---------------------------------------------------------------------------\u001b[0m",
            "\u001b[0;31mTypeError\u001b[0m                                 Traceback (most recent call last)",
            "Cell \u001b[0;32mIn[21], line 2\u001b[0m\n\u001b[1;32m      1\u001b[0m fastHare_data[\u001b[39m'\u001b[39m\u001b[39madj_label\u001b[39m\u001b[39m'\u001b[39m] \u001b[39m=\u001b[39m []\n\u001b[0;32m----> 2\u001b[0m \u001b[39mfor\u001b[39;00m i \u001b[39min\u001b[39;00m \u001b[39mrange\u001b[39m(\u001b[39mlen\u001b[39;49m(\u001b[39mmap\u001b[39;49m)):\n\u001b[1;32m      3\u001b[0m   \u001b[39mfor\u001b[39;00m j \u001b[39min\u001b[39;00m \u001b[39mrange\u001b[39m(\u001b[39mlen\u001b[39m(\u001b[39mmap\u001b[39m)):\n\u001b[1;32m      4\u001b[0m     \u001b[39mif\u001b[39;00m \u001b[39mmap\u001b[39m[i]\u001b[39m!=\u001b[39m\u001b[39mmap\u001b[39m[j] \u001b[39mor\u001b[39;00m i\u001b[39m==\u001b[39mj:\n",
            "\u001b[0;31mTypeError\u001b[0m: object of type 'type' has no len()"
          ]
        }
      ],
      "source": [
        "fastHare_data['adj_label'] = []\n",
        "for i in range(len(map)):\n",
        "  for j in range(len(map)):\n",
        "    if map[i]!=map[j] or i==j:\n",
        "      fastHare_data['adj_label'].append(0)\n",
        "    else:\n",
        "      fastHare_data['adj_label'].append(1)\n",
        "fastHare_data['adj_label'] = torch.tensor(fastHare_data['adj_label'], dtype=torch.float64)"
      ]
    },
    {
      "cell_type": "code",
      "execution_count": 19,
      "metadata": {},
      "outputs": [],
      "source": [
        "import fasthare as m\n",
        "\n",
        "def Create_adj_label(J):\n",
        "    sk_ising = []\n",
        "    for k,v in J.items():\n",
        "        sk_ising.append((k[0],k[1],v))\n",
        "    rh, map, sign, time1 = m.fasthare_reduction(sk_ising,alpha=0.2)\n",
        "    adj_label = []\n",
        "    for i in range(len(map)):\n",
        "        for j in range(len(map)):\n",
        "            if map[i]!=map[j] or i==j:\n",
        "                adj_label.append(0)\n",
        "            else:\n",
        "                adj_label.append(1)\n",
        "    return torch.tensor(adj_label, dtype=torch.float64)\n"
      ]
    },
    {
      "cell_type": "code",
      "execution_count": 20,
      "metadata": {},
      "outputs": [
        {
          "ename": "FileNotFoundError",
          "evalue": "[Errno 2] No such file or directory: '/erdos_renyi'",
          "output_type": "error",
          "traceback": [
            "\u001b[0;31m---------------------------------------------------------------------------\u001b[0m",
            "\u001b[0;31mFileNotFoundError\u001b[0m                         Traceback (most recent call last)",
            "Cell \u001b[0;32mIn[20], line 5\u001b[0m\n\u001b[1;32m      3\u001b[0m DIR \u001b[39m=\u001b[39m \u001b[39m'\u001b[39m\u001b[39m/erdos_renyi\u001b[39m\u001b[39m'\u001b[39m\n\u001b[1;32m      4\u001b[0m graph_data \u001b[39m=\u001b[39m []\n\u001b[0;32m----> 5\u001b[0m \u001b[39mfor\u001b[39;00m file \u001b[39min\u001b[39;00m tqdm\u001b[39m.\u001b[39mtqdm(os\u001b[39m.\u001b[39;49mlistdir(DIR)):\n\u001b[1;32m      6\u001b[0m   \u001b[39mif\u001b[39;00m \u001b[39m'\u001b[39m\u001b[39mgraph\u001b[39m\u001b[39m'\u001b[39m \u001b[39mnot\u001b[39;00m \u001b[39min\u001b[39;00m file:\n\u001b[1;32m      7\u001b[0m     \u001b[39mcontinue\u001b[39;00m\n",
            "\u001b[0;31mFileNotFoundError\u001b[0m: [Errno 2] No such file or directory: '/erdos_renyi'"
          ]
        }
      ],
      "source": [
        "from torch._C import FileCheck\n",
        "\n",
        "DIR = '/erdos_renyi'\n",
        "graph_data = []\n",
        "for file in tqdm.tqdm(os.listdir(DIR)):\n",
        "  if 'graph' not in file:\n",
        "    continue\n",
        "  path = DIR+'/'+file\n",
        "  f = open(path)\n",
        "  fastHare_data = json.load(f)\n",
        "  src = []\n",
        "  dst = []\n",
        "  for v in fastHare_data['edges'].values():\n",
        "    src.append(v[0])\n",
        "    dst.append(v[1])\n",
        "#   virtual_idx = len(fastHare_data['H'])\n",
        "#   src.extend([int(i) for i in fastHare_data['H'].keys()])\n",
        "#   dst.extend([virtual_idx for _ in range(len(fastHare_data['H']))])\n",
        "#   src.extend([virtual_idx for _ in range(len(fastHare_data['H']))])\n",
        "#   dst.extend([int(i) for i in fastHare_data['H'].keys()])\n",
        "\n",
        "  edge_index = torch.tensor([src,dst], dtype=torch.long)\n",
        "  edge_attr = [v for v in fastHare_data['J'].values()]\n",
        "#   edge_attr.extend(list(fastHare_data['H'].values()))\n",
        "#   edge_attr.extend(list(fastHare_data['H'].values()))\n",
        "  # edge_attr = F.normalize(torch.tensor(edge_attr, dtype=torch.float),dim=-1).unsqueeze(dim=-1)\n",
        "\n",
        "  # x = F.normalize(torch.tensor([v for v in data['H'].values()], dtype=torch.float),dim=-1).unsqueeze(dim=-1)\n",
        "  y = torch.tensor([0 if v==-1 else v for v in fastHare_data['label']], dtype=torch.long)\n",
        "  adj_label = Create_adj_label(fastHare_data['J'])\n",
        "  graph_data.append(Data(x=x, edge_index=edge_index, y=y, edge_attr=edge_attr, adj_label=adj_label))\n",
        "  break"
      ]
    },
    {
      "attachments": {},
      "cell_type": "markdown",
      "metadata": {
        "id": "tCvdWKln9hn3"
      },
      "source": [
        "# Utils"
      ]
    },
    {
      "cell_type": "code",
      "execution_count": 83,
      "metadata": {
        "id": "C3NLysVmIWx-"
      },
      "outputs": [],
      "source": [
        "def generate_graph(n, d=None, p=None, graph_type='reg', random_seed=0):\n",
        "    \"\"\"\n",
        "    Helper function to generate a NetworkX random graph of specified type,\n",
        "    given specified parameters (e.g. d-regular, d=3). Must provide one of\n",
        "    d or p, d with graph_type='reg', and p with graph_type in ['prob', 'erdos'].\n",
        "\n",
        "    Input:\n",
        "        n: Problem size\n",
        "        d: [Optional] Degree of each node in graph\n",
        "        p: [Optional] Probability of edge between two nodes\n",
        "        graph_type: Specifies graph type to generate\n",
        "        random_seed: Seed value for random generator\n",
        "    Output:\n",
        "        nx_graph: NetworkX OrderedGraph of specified type and parameters\n",
        "    \"\"\"\n",
        "    if graph_type == 'reg':\n",
        "        print(f'Generating d-regular graph with n={n}, d={d}, seed={random_seed}')\n",
        "        nx_temp = nx.random_regular_graph(d=d, n=n, seed=random_seed)\n",
        "    elif graph_type == 'prob':\n",
        "        print(f'Generating p-probabilistic graph with n={n}, p={p}, seed={random_seed}')\n",
        "        nx_temp = nx.fast_gnp_random_graph(n, p, seed=random_seed)\n",
        "    elif graph_type == 'erdos':\n",
        "        print(f'Generating erdos-renyi graph with n={n}, p={p}, seed={random_seed}')\n",
        "        nx_temp = nx.erdos_renyi_graph(n, p, seed=random_seed)\n",
        "    else:\n",
        "        raise NotImplementedError(f'!! Graph type {graph_type} not handled !!')\n",
        "\n",
        "    # Networkx does not enforce node order by default\n",
        "    nx_temp = nx.relabel.convert_node_labels_to_integers(nx_temp)\n",
        "    # Need to pull nx graph into OrderedGraph so training will work properly\n",
        "    nx_graph = nx.OrderedGraph()\n",
        "    nx_graph.add_nodes_from(sorted(nx_temp.nodes()))\n",
        "    nx_graph.add_edges_from(nx_temp.edges)\n",
        "    return nx_graph\n",
        "\n",
        "\n",
        "# helper function to convert Q dictionary to torch tensor\n",
        "def qubo_dict_to_torch(nx_G, Q, torch_dtype=None, torch_device=None):\n",
        "    \"\"\"\n",
        "    Output Q matrix as torch tensor for given Q in dictionary format.\n",
        "\n",
        "    Input:\n",
        "        Q: QUBO matrix as defaultdict\n",
        "        nx_G: graph as networkx object (needed for node lables can vary 0,1,... vs 1,2,... vs a,b,...)\n",
        "    Output:\n",
        "        Q: QUBO as torch tensor\n",
        "    \"\"\"\n",
        "\n",
        "    # get number of nodes\n",
        "    n_nodes = len(nx_G.nodes)\n",
        "\n",
        "    # get QUBO Q as torch tensor\n",
        "    Q_mat = torch.zeros(n_nodes, n_nodes)\n",
        "    for (x_coord, y_coord), val in Q.items():\n",
        "        Q_mat[x_coord][y_coord] = val\n",
        "\n",
        "    if torch_dtype is not None:\n",
        "        Q_mat = Q_mat.type(torch_dtype)\n",
        "\n",
        "    if torch_device is not None:\n",
        "        Q_mat = Q_mat.to(torch_device)\n",
        "\n",
        "    return Q_mat\n",
        "    \n",
        "def gen_q_dict_mis(nx_G, penalty=2):\n",
        "    \"\"\"\n",
        "    Helper function to generate QUBO matrix for MIS as minimization problem.\n",
        "    \n",
        "    Input:\n",
        "        nx_G: graph as networkx graph object (assumed to be unweigthed)\n",
        "    Output:\n",
        "        Q_dic: QUBO as defaultdict\n",
        "    \"\"\"\n",
        "\n",
        "    # Initialize our Q matrix\n",
        "    Q_dic = defaultdict(int)\n",
        "\n",
        "    # Update Q matrix for every edge in the graph\n",
        "    # all off-diagonal terms get penalty\n",
        "    for (u, v) in nx_G.edges:\n",
        "        Q_dic[(u, v)] = penalty\n",
        "\n",
        "    # all diagonal terms get -1\n",
        "    for u in nx_G.nodes:\n",
        "        Q_dic[(u, u)] = -1\n",
        "\n",
        "    return Q_dic\n",
        "\n",
        "def gen_fastHare_q_dict(data, penalty=2):\n",
        "    # Initialize our Q matrix\n",
        "    Q_dic = defaultdict(int)\n",
        "\n",
        "    # Update Q matrix for every edge in the graph\n",
        "    # all off-diagonal terms get penalty\n",
        "    for idx in range(data.edge_index.size()[1]):\n",
        "        u = data.edge_index[0][idx]\n",
        "        v = data.edge_index[1][idx]\n",
        "        Q_dic[(u, v)] = data.edge_attr[idx]\n",
        "\n",
        "    # all diagonal terms get -1\n",
        "    # for u in range(data.x.size()[0]):\n",
        "    #     Q_dic[(u, u)] = -1\n",
        "\n",
        "    return Q_dic\n",
        "\n",
        "def fastHare_qubo_dict_to_torch(data, Q, torch_dtype=None, torch_device=None):\n",
        "    \"\"\"\n",
        "    Output Q matrix as torch tensor for given Q in dictionary format.\n",
        "\n",
        "    Input:\n",
        "        Q: QUBO matrix as defaultdict\n",
        "        nx_G: graph as networkx object (needed for node lables can vary 0,1,... vs 1,2,... vs a,b,...)\n",
        "    Output:\n",
        "        Q: QUBO as torch tensor\n",
        "    \"\"\"\n",
        "\n",
        "    # get number of nodes\n",
        "    n_nodes = data.num_nodes\n",
        "\n",
        "    # get QUBO Q as torch tensor\n",
        "    Q_mat = torch.zeros(n_nodes, n_nodes)\n",
        "    for (x_coord, y_coord), val in Q.items():\n",
        "        Q_mat[x_coord][y_coord] = val\n",
        "\n",
        "    if torch_dtype is not None:\n",
        "        Q_mat = Q_mat.type(torch_dtype)\n",
        "\n",
        "    if torch_device is not None:\n",
        "        Q_mat = Q_mat.to(torch_device)\n",
        "\n",
        "    return Q_mat\n"
      ]
    },
    {
      "attachments": {},
      "cell_type": "markdown",
      "metadata": {
        "id": "8do6rMa2_Rlc"
      },
      "source": [
        "## Loss function"
      ]
    },
    {
      "cell_type": "code",
      "execution_count": 84,
      "metadata": {
        "id": "osTZyoiHKNy_"
      },
      "outputs": [],
      "source": [
        "def loss_func(probs, Q_mat):\n",
        "    \"\"\"\n",
        "    Function to compute cost value for given probability of spin [prob(+1)] and predefined Q matrix.\n",
        "\n",
        "    Input:\n",
        "        probs: Probability of each node belonging to each class, as a vector\n",
        "        Q_mat: QUBO as torch tensor\n",
        "    \"\"\"\n",
        "\n",
        "    probs_ = torch.unsqueeze(probs, 1)\n",
        "\n",
        "    # minimize cost = x.T * Q * x\n",
        "    cost = (probs_.T @ Q_mat @ probs_).squeeze()\n",
        "\n",
        "    return cost\n",
        "\n",
        "def FastHare_loss_func(probs, Q_mat, embed=None):\n",
        "    \"\"\"\n",
        "    Function to compute cost value for given probability of spin [prob(+1)] and predefined Q matrix.\n",
        "\n",
        "    Input:\n",
        "        probs: Probability of each node belonging to each class, as a vector\n",
        "        Q_mat: QUBO as torch tensor\n",
        "    \"\"\"\n",
        "\n",
        "    probs_ = torch.unsqueeze(probs, 1)\n",
        "    # minimize cost = x.T * Q * x\n",
        "    cost = (-1)*(probs_.T @ Q_mat @ probs_).squeeze()\n",
        "\n",
        "    embed_norm = embed\n",
        "    cos = torch.cos(embed_norm).mean(dim=0)\n",
        "    sin = torch.sin(embed_norm).mean(dim=0)\n",
        "    R = (cos**2 + sin**2)**0.5\n",
        "    R = R.mean()\n",
        "\n",
        "    return cost - R\n",
        "\n",
        "def FastHare_GumbelMax_loss_func(probs, Q_mat, A=None):\n",
        "    \"\"\"\n",
        "    Function to compute cost value for given probability of spin [prob(+1)] and predefined Q matrix.\n",
        "\n",
        "    Input:\n",
        "        probs: Probability of each node belonging to each class, as a vector\n",
        "        Q_mat: QUBO as torch tensor\n",
        "    \"\"\"\n",
        "\n",
        "    probs_ = torch.unsqueeze(probs, 1)\n",
        "    # minimize cost = x.T * Q * x\n",
        "    cost = (-1)*(probs_.T @ Q_mat @ probs_).squeeze()\n",
        "    Q_top = A.T @ Q_mat @ A\n",
        "    x_top = A.T @ probs_\n",
        "    # clustering cost = x'.T * Q' * x'\n",
        "    cost_top = (-1)*(x_top.T @ Q_top @ x_top).squeeze()\n",
        "\n",
        "    return cost + 0.1*torch.abs(cost-cost_top)\n",
        "\n",
        "def FastHare_loss_func_2(probs, Q_mat, adj_probs, adj_label, embed=None):\n",
        "    \"\"\"\n",
        "    Function to compute cost value for given probability of spin [prob(+1)] and predefined Q matrix.\n",
        "\n",
        "    Input:\n",
        "        probs: Probability of each node belonging to each class, as a vector\n",
        "        Q_mat: QUBO as torch tensor\n",
        "    \"\"\"\n",
        "    #adj_classifier loss\n",
        "    loss = nn.BCELoss()\n",
        "    adj_loss = loss(adj_probs, adj_label)\n",
        "\n",
        "    probs_ = torch.unsqueeze(probs, 1)\n",
        "    # minimize cost = x.T * Q * x\n",
        "    cost = (-1)*(probs_.T @ Q_mat @ probs_).squeeze()\n",
        "\n",
        "    embed_norm = embed\n",
        "    cos = torch.cos(embed_norm).mean(dim=0)\n",
        "    sin = torch.sin(embed_norm).mean(dim=0)\n",
        "    R = (cos**2 + sin**2)**0.5\n",
        "    R = R.mean()\n",
        "\n",
        "    return cost + adj_loss\n"
      ]
    },
    {
      "attachments": {},
      "cell_type": "markdown",
      "metadata": {
        "id": "REdo8xzg9nE9"
      },
      "source": [
        "# Hyper-Params"
      ]
    },
    {
      "cell_type": "code",
      "execution_count": 85,
      "metadata": {
        "id": "GTy-1QJ9Ikn9"
      },
      "outputs": [],
      "source": [
        "# Graph hypers\n",
        "n = 100\n",
        "d = 3\n",
        "p = None\n",
        "graph_type = 'reg'\n",
        "\n",
        "# NN learning hypers #\n",
        "number_epochs = int(1e5)\n",
        "learning_rate = 1e-3\n",
        "PROB_THRESHOLD = 0.5\n",
        "\n",
        "# Early stopping to allow NN to train to near-completion\n",
        "tol = 1e-4          # loss must change by more than tol, or trigger\n",
        "patience = 1000    # number early stopping triggers before breaking loop\n",
        "\n",
        "# Problem size (e.g. graph size)\n",
        "n = data.num_nodes\n",
        "# n=100\n",
        "# Establish dim_embedding and hidden_dim values\n",
        "dim_embedding = int(np.sqrt(n))    # e.g. 10\n",
        "# dim_embedding = 10\n",
        "hidden_dim = int(dim_embedding/2)  # e.g. 5\n",
        "\n",
        "opt = {\n",
        "    'lr': learning_rate,\n",
        "    'dim_embedding': dim_embedding,\n",
        "    'hidden_dim': hidden_dim,\n",
        "    'dropout': 0.0,\n",
        "    'number_classes': 1,\n",
        "    'prob_threshold': PROB_THRESHOLD,\n",
        "    'number_epochs': number_epochs,\n",
        "    'tolerance': tol,\n",
        "    'patience': patience\n",
        "\n",
        "}"
      ]
    },
    {
      "attachments": {},
      "cell_type": "markdown",
      "metadata": {
        "id": "kVcXzYZ99qSy"
      },
      "source": [
        "# Graph Generating"
      ]
    },
    {
      "cell_type": "code",
      "execution_count": 86,
      "metadata": {
        "id": "-U_hTQCS0StY"
      },
      "outputs": [],
      "source": [
        "#FASTHARE\n",
        "q_torch = fastHare_qubo_dict_to_torch(data, gen_fastHare_q_dict(data), torch_dtype=TORCH_DTYPE, torch_device=TORCH_DEVICE)\n"
      ]
    },
    {
      "cell_type": "code",
      "execution_count": 87,
      "metadata": {
        "id": "gcSQ4FujIyyX"
      },
      "outputs": [],
      "source": [
        "# # Constructs a random d-regular or p-probabilistic graph\n",
        "# nx_graph = generate_graph(n=n, d=d, p=p, graph_type=graph_type, random_seed=seed_value)\n",
        "\n",
        "# # Construct Q matrix for graph\n",
        "# q_torch = qubo_dict_to_torch(nx_graph, gen_q_dict_mis(nx_graph), torch_dtype=TORCH_DTYPE, torch_device=TORCH_DEVICE)\n",
        "\n",
        "# src = []\n",
        "# dst = []\n",
        "# for (u,v) in nx_graph.edges:\n",
        "#   src.append(u)\n",
        "#   dst.append(v)\n",
        "# data = torch.tensor([src,dst], dtype=torch.long)"
      ]
    },
    {
      "attachments": {},
      "cell_type": "markdown",
      "metadata": {
        "id": "a8ORyiEQ9uWv"
      },
      "source": [
        "# Model"
      ]
    },
    {
      "cell_type": "code",
      "execution_count": 108,
      "metadata": {
        "id": "0IHH2CzJ_CV-"
      },
      "outputs": [],
      "source": [
        "from torch_geometric.nn import GraphConv, GATConv, TransformerConv, SAGEConv, AntiSymmetricConv,GCNConv\n",
        "from torch_geometric.utils import degree,get_laplacian\n",
        "import torch_sparse\n",
        "from torch_scatter import scatter_add\n",
        "import torch.nn as nn\n",
        "import torch.nn.functional as F\n",
        "\n",
        "def train(data, edge_weight=None):\n",
        "      model.train()\n",
        "      optimizer.zero_grad()  \n",
        "      out = model(data.to(TORCH_DEVICE), edge_weight=edge_weight.to(TORCH_DEVICE))\n",
        "      final_embed = out[1]\n",
        "      if model_name=='FastHare_AdjCls':\n",
        "        adj_probs = out[-1]\n",
        "      out = out[0].squeeze()\n",
        "      bitstring = (out >= opt['prob_threshold']) * 1\n",
        "      bitstring[-1] = 1\n",
        "      # loss = loss_func(out, q_torch)\n",
        "\n",
        "      #FASTHARE\n",
        "      bitstring = (2.0*bitstring-1.0)\n",
        "      if model_name == 'FastHare_GumbelMax':\n",
        "        loss = FastHare_GumbelMax_loss_func(out, q_torch, A=final_embed)\n",
        "      elif model_name == 'FastHare_AdjCls':\n",
        "        loss = FastHare_loss_func_2(out, q_torch, adj_probs, fastHare_data['adj_label'].to(TORCH_DEVICE),  embed=final_embed)\n",
        "      else:\n",
        "        loss = FastHare_loss_func(out, q_torch, embed=final_embed)\n",
        "\n",
        "      loss_ = loss.detach().item()\n",
        "      # loss.requires_grad = True\n",
        "      loss.backward()  \n",
        "      # for name, param in model.named_parameters():\n",
        "      #   if param.requires_grad:\n",
        "      #     print(name,param.grad)\n",
        "      optimizer.step() \n",
        "      # print(\"END\")\n",
        "      if model_name=='FastHare_AdjCls':\n",
        "        return loss_, bitstring, final_embed, adj_probs\n",
        "      return loss_, bitstring, final_embed\n",
        "\n",
        "# def test():\n",
        "#       model.eval()\n",
        "#       test_acc = 0\n",
        "#       for data in test_loader:\n",
        "#         out = model(data.x.to(TORCH_DEVICE), \n",
        "#                     data.edge_index.to(TORCH_DEVICE), \n",
        "#                     data.edge_attr.to(TORCH_DEVICE)) \n",
        "#         pred = out.argmax(dim=1)  # Use the class with highest probability.\n",
        "#         test_correct = pred.cpu() == data.y  # Check against ground-truth labels.\n",
        "#         test_acc += int(test_correct.sum()) / (data.y.size()[0])  # Derive ratio of correct predictions.\n",
        "#       return test_acc/(len(test_loader))\n"
      ]
    },
    {
      "attachments": {},
      "cell_type": "markdown",
      "metadata": {
        "id": "XJgbc8XQ--cC"
      },
      "source": [
        "##GCN"
      ]
    },
    {
      "cell_type": "code",
      "execution_count": 109,
      "metadata": {
        "id": "HowTfJnWdbLu"
      },
      "outputs": [],
      "source": [
        "class GCN(torch.nn.Module):\n",
        "    def __init__(self, embed_channels, hidden_channels, num_nodes, num_classes, dropout):\n",
        "        super().__init__()\n",
        "        self.conv1 = GraphConv(embed_channels, hidden_channels)\n",
        "        self.conv2 = GraphConv(hidden_channels, num_classes)\n",
        "        self.dropout = dropout\n",
        "        self.embed = nn.Embedding(num_nodes, embed_channels)\n",
        "\n",
        "    def forward(self, edge_index, edge_weight=None):\n",
        "        x = self.embed.weight\n",
        "        x = self.conv1(x, edge_index, edge_weight)\n",
        "        x = torch.relu(x)\n",
        "        x = F.dropout(x, p=self.dropout)\n",
        "        x = self.conv2(x, edge_index, edge_weight)\n",
        "        x = torch.sigmoid(x)\n",
        "        return x, _\n",
        "\n"
      ]
    },
    {
      "attachments": {},
      "cell_type": "markdown",
      "metadata": {
        "id": "gkOYfWSN_GS4"
      },
      "source": [
        "##GAT"
      ]
    },
    {
      "cell_type": "code",
      "execution_count": 110,
      "metadata": {
        "id": "hT1wzv3X_Hfj"
      },
      "outputs": [],
      "source": [
        "class GAT(torch.nn.Module):\n",
        "    def __init__(self, embed_channels, hidden_channels, num_nodes, num_classes, dropout):\n",
        "        super().__init__()\n",
        "        # self.lin1 = Linear(num_features, embed_channels)\n",
        "        self.conv1 = GATConv(embed_channels, hidden_channels)\n",
        "        self.conv2 = GATConv(hidden_channels, num_classes)\n",
        "        # self.lin2 = Linear(hidden_channels, num_classes)\n",
        "        self.dropout = dropout\n",
        "        self.embed = nn.Embedding(num_nodes, embed_channels)\n",
        "\n",
        "    def forward(self, edge_index, edge_weight=None):\n",
        "        x = self.embed.weight\n",
        "        # x = F.dropout(x, p=0.1, training=self.training)\n",
        "        x = self.conv1(x, edge_index)\n",
        "        x = torch.relu(x)\n",
        "        x = F.dropout(x, p=self.dropout)\n",
        "        x = self.conv2(x, edge_index)\n",
        "        # x = self.lin2(x)\n",
        "        x = torch.sigmoid(x)\n",
        "        return x, _"
      ]
    },
    {
      "attachments": {},
      "cell_type": "markdown",
      "metadata": {
        "id": "6npndmXI_Jod"
      },
      "source": [
        "##Anti-symmetric\n"
      ]
    },
    {
      "cell_type": "code",
      "execution_count": 111,
      "metadata": {
        "id": "IMFcUACm_LI7"
      },
      "outputs": [],
      "source": [
        "class AntiSymmetric(torch.nn.Module):\n",
        "    def __init__(self, embed_channels, hidden_channels, num_nodes, num_classes, dropout):\n",
        "        super().__init__()\n",
        "        # self.lin1 = Linear(num_features, embed_channels)\n",
        "        phi = GraphConv(embed_channels, embed_channels)\n",
        "        self.conv1 = AntiSymmetricConv(embed_channels, phi=phi)\n",
        "        self.conv2 = AntiSymmetricConv(embed_channels, phi=phi, act='relu')\n",
        "        self.lin2 = Linear(embed_channels, num_classes)\n",
        "        self.dropout = dropout\n",
        "        self.embed = nn.Embedding(num_nodes, embed_channels)\n",
        "\n",
        "    def forward(self, edge_index, edge_weight=None):\n",
        "        x = self.embed.weight\n",
        "        # x = F.dropout(x, p=0.1, training=self.training)\n",
        "        x = self.conv1(x, edge_index)\n",
        "        # x = torch.relu(x)\n",
        "        x = F.dropout(x, p=self.dropout)\n",
        "        # x = self.conv2(x, edge_index)\n",
        "        x = self.lin2(x)\n",
        "        x = torch.sigmoid(x)\n",
        "        return x\n"
      ]
    },
    {
      "attachments": {},
      "cell_type": "markdown",
      "metadata": {
        "id": "B7sBk-Cz_MJE"
      },
      "source": [
        "## Custom\n"
      ]
    },
    {
      "cell_type": "code",
      "execution_count": 115,
      "metadata": {
        "id": "OZA7dG18_NX5"
      },
      "outputs": [],
      "source": [
        "class GCN2(torch.nn.Module):\n",
        "    def __init__(self, embed_channels, hidden_channels, num_nodes, num_classes, dropout):\n",
        "        super().__init__()\n",
        "        # self.conv1 = SAGEConv(embed_channels, hidden_channels)\n",
        "        # self.conv2 = SAGEConv(hidden_channels, num_classes)\n",
        "        self.lin2 = Linear(embed_channels, num_classes)\n",
        "        self.dropout = dropout\n",
        "        self.embed = nn.Embedding(num_nodes, embed_channels)\n",
        "\n",
        "    def forward(self, edge_index, edge_weight=None):\n",
        "        x = self.embed.weight\n",
        "\n",
        "        delta = 0.01\n",
        "        new_x = x\n",
        "        orig = new_x.clone()\n",
        "        K = 1\n",
        "        lap_edge_index, lap_edge_weight = get_laplacian(edge_index, edge_weight, normalization='rw')\n",
        "        \n",
        "        for _ in range(20):\n",
        "          # ax = torch_sparse.spmm(lap_edge_index, lap_edge_weight, new_x.shape[0], new_x.shape[0], new_x)\n",
        "\n",
        "          cos_R = torch_sparse.spmm(lap_edge_index, lap_edge_weight, new_x.shape[0], new_x.shape[0], torch.cos(new_x))\n",
        "          sin_R = torch_sparse.spmm(lap_edge_index, lap_edge_weight, new_x.shape[0], new_x.shape[0], torch.sin(new_x))\n",
        "          phi = torch_sparse.spmm(lap_edge_index, lap_edge_weight, new_x.shape[0], new_x.shape[0], new_x)\n",
        "          R = torch.sqrt((torch.cos(new_x)-cos_R)**2 + (torch.sin(new_x)-sin_R)**2) \n",
        "          # print(R)\n",
        "          out_phi = -phi\n",
        "          out_hat = K*R*torch.sin(out_phi)\n",
        "\n",
        "          # new_x = new_x + delta*(orig-ax)\n",
        "\n",
        "          new_x = new_x + delta*(orig + out_hat)\n",
        "\n",
        "        x = self.lin2(torch.relu(new_x))        \n",
        "        x = torch.sigmoid(x)\n",
        "        return x, new_x\n",
        "\n",
        "class GCN3(torch.nn.Module):\n",
        "    def __init__(self, embed_channels, hidden_channels, num_nodes, num_classes, dropout, num_cluster):\n",
        "        super().__init__()\n",
        "        self.conv1 = GraphConv(embed_channels, hidden_channels)\n",
        "        self.conv2 = GraphConv(hidden_channels, num_classes)\n",
        "        self.dropout = dropout\n",
        "        self.embed = nn.Embedding(num_nodes, embed_channels)\n",
        "        if num_cluster is not None:\n",
        "          self.cluster_trans = Linear(embed_channels, num_cluster)\n",
        "\n",
        "    def forward(self, edge_index, edge_weight=None):\n",
        "        x = self.embed.weight\n",
        "        A = F.gumbel_softmax(self.cluster_trans(x))\n",
        "\n",
        "        x = self.conv1(x, edge_index, edge_weight)\n",
        "        x = torch.relu(x)\n",
        "        x = F.dropout(x, p=self.dropout)\n",
        "        x = self.conv2(x, edge_index, edge_weight)\n",
        "        x = torch.sigmoid(x)\n",
        "        return x, A\n",
        "\n",
        "class GCN4(torch.nn.Module):\n",
        "    def __init__(self, embed_channels, hidden_channels, num_nodes, num_classes, dropout):\n",
        "        super().__init__()\n",
        "        # self.conv1 = SAGEConv(embed_channels, hidden_channels)\n",
        "        # self.conv2 = SAGEConv(hidden_channels, num_classes)\n",
        "        self.lin2 = Linear(embed_channels, num_classes)\n",
        "        self.lin_Q = Linear(embed_channels, hidden_channels)\n",
        "        self.lin_K = Linear(embed_channels, hidden_channels)\n",
        "\n",
        "        self.dropout = dropout\n",
        "        self.embed = nn.Embedding(num_nodes, embed_channels)\n",
        "\n",
        "    def forward(self, edge_index, edge_weight=None):\n",
        "        x = self.embed.weight\n",
        "\n",
        "        #CREATING NEW EDGE_WEIGHT\n",
        "        x_Q = self.lin_Q(x)\n",
        "        x_K = self.lin_K(x)\n",
        "        src = x_Q[edge_index[0, :], :]\n",
        "        dst_k = x_K[edge_index[1, :], :]\n",
        "\n",
        "        new_edge_weight = torch.sum(src * dst_k, dim=1)\n",
        "        # edge_weight = new_edge_weight\n",
        "\n",
        "        lamb = 0.01\n",
        "        new_x = x\n",
        "        lap_edge_index, lap_edge_weight = get_laplacian(edge_index, edge_weight, normalization='rw')\n",
        "        orig = x.clone()\n",
        "        for _ in range(2):\n",
        "          norm_ax = torch_sparse.spmm(lap_edge_index, lap_edge_weight, new_x.shape[0], new_x.shape[0], new_x)\n",
        "          ax = torch_sparse.spmm(edge_index, edge_weight, new_x.shape[0], new_x.shape[0], new_x)\n",
        "\n",
        "          new_x = (lamb*orig + (norm_ax-ax))/(1+lamb)\n",
        "\n",
        "\n",
        "        x = self.lin2(torch.relu(new_x))        \n",
        "        x = torch.sigmoid(x)\n",
        "        return x, new_x, torch.flatten(torch.sigmoid(x_Q @ x_K.T))"
      ]
    },
    {
      "cell_type": "code",
      "execution_count": 116,
      "metadata": {
        "colab": {
          "base_uri": "https://localhost:8080/"
        },
        "id": "mzzS3mA2TXxS",
        "outputId": "c4e7d80a-4e61-4715-e9d7-95a4fcdc1b05"
      },
      "outputs": [
        {
          "data": {
            "text/plain": [
              "Data(x=[10], edge_index=[2, 28], edge_attr=[28], y=[10], test_mask=[10])"
            ]
          },
          "execution_count": 116,
          "metadata": {},
          "output_type": "execute_result"
        }
      ],
      "source": [
        "data"
      ]
    },
    {
      "cell_type": "code",
      "execution_count": 117,
      "metadata": {
        "id": "eDBIgfzBkurC"
      },
      "outputs": [],
      "source": [
        "#FASTHARE\n",
        "model_name = None\n",
        "model_name = 'FastHare_AdjCls'\n",
        "opt['cluster_num'] = 3\n",
        "model = GCN4(embed_channels=opt['dim_embedding'],\n",
        "            hidden_channels=opt['hidden_dim'],\n",
        "            num_nodes = data.num_nodes,\n",
        "            # num_features=1,\n",
        "            num_classes=opt['number_classes'],\n",
        "            dropout=opt['dropout']).to(TORCH_DEVICE).to(TORCH_DTYPE)\n",
        "\n",
        "# #Other\n",
        "# model = GCN(embed_channels=opt['dim_embedding'],\n",
        "#             hidden_channels=opt['hidden_dim'],\n",
        "#             num_nodes = nx_graph.number_of_nodes(),\n",
        "#             # num_features=1,\n",
        "#             num_classes=opt['number_classes'],\n",
        "#             dropout=opt['dropout']).to(TORCH_DEVICE)\n",
        "\n",
        "optimizer = torch.optim.Adam(model.parameters(), lr=opt['lr'])"
      ]
    },
    {
      "attachments": {},
      "cell_type": "markdown",
      "metadata": {
        "id": "qZ0c9QP298Bk"
      },
      "source": [
        "# Start optimizing"
      ]
    },
    {
      "cell_type": "code",
      "execution_count": 118,
      "metadata": {
        "colab": {
          "base_uri": "https://localhost:8080/"
        },
        "id": "iBq2REOKkHB8",
        "outputId": "9faae164-d8f8-4faf-ddac-2da0d323d973"
      },
      "outputs": [
        {
          "name": "stdout",
          "output_type": "stream",
          "text": [
            "Epoch: 1000, Loss: -27.374356135605066\n",
            "Epoch: 2000, Loss: -33.533780920692074\n",
            "Epoch: 3000, Loss: -36.35850728561338\n",
            "Epoch: 4000, Loss: -37.672069552057096\n",
            "Epoch: 5000, Loss: -38.363829190028596\n",
            "Epoch: 6000, Loss: -38.76254613479027\n",
            "Epoch: 7000, Loss: -39.0114960587079\n",
            "Epoch: 8000, Loss: -39.24110095351193\n",
            "Epoch: 9000, Loss: -39.34621324451025\n",
            "Stopping early on epoch 9549\n",
            "GNN training (n=10) took 40.727\n",
            "GNN final continuous loss: -39.38446860838861\n",
            "GNN best continuous loss: -39.38446860838861\n"
          ]
        }
      ],
      "source": [
        "prev_loss = 1.  # initial loss value (arbitrary)\n",
        "count = 0       # track number times early stopping is triggered\n",
        "best_loss = 0\n",
        "t_gnn_start = time()\n",
        "\n",
        "for epoch in range(1, opt['number_epochs']+1):\n",
        "    if model_name == 'FastHare_AdjCls':\n",
        "      loss, res, final_embed, adj_cls = train(data.edge_index, edge_weight=data.edge_attr)\n",
        "    else:\n",
        "      loss, res, final_embed = train(data.edge_index, edge_weight=data.edge_attr)\n",
        "    \n",
        "    if loss < best_loss:\n",
        "      best_loss = loss\n",
        "      best_bitstring = res\n",
        "\n",
        "    if epoch % 1000 == 0:\n",
        "        print(f'Epoch: {epoch}, Loss: {loss}')\n",
        "\n",
        "    # early stopping check\n",
        "    # If loss increases or change in loss is too small, trigger\n",
        "    if (abs(loss - prev_loss) <= opt['tolerance']) | ((loss - prev_loss) > 0):\n",
        "        count += 1\n",
        "    else:\n",
        "        count = 0\n",
        "\n",
        "    if count >= opt['patience']:\n",
        "        print(f'Stopping early on epoch {epoch}')\n",
        "        break\n",
        "\n",
        "    # update loss tracking\n",
        "    prev_loss = loss\n",
        "\n",
        "# print(f'GNN training (n={nx_graph.number_of_nodes()}) took {round(time() - t_gnn_start, 3)}')\n",
        "print(f'GNN training (n={data.num_nodes}) took {round(time() - t_gnn_start, 3)}')\n",
        "print(f'GNN final continuous loss: {loss}')\n",
        "print(f'GNN best continuous loss: {best_loss}')\n"
      ]
    },
    {
      "cell_type": "code",
      "execution_count": 119,
      "metadata": {
        "colab": {
          "base_uri": "https://localhost:8080/"
        },
        "id": "nMo8xqwrlA3S",
        "outputId": "d8058f23-292e-4583-94ed-81138b738ba7"
      },
      "outputs": [
        {
          "data": {
            "text/plain": [
              "tensor([ 1., -1., -1.,  1.,  1.,  1.,  1.,  1.,  1.,  1.], device='cuda:0')"
            ]
          },
          "execution_count": 119,
          "metadata": {},
          "output_type": "execute_result"
        }
      ],
      "source": [
        "best_bitstring"
      ]
    },
    {
      "cell_type": "code",
      "execution_count": 120,
      "metadata": {
        "colab": {
          "base_uri": "https://localhost:8080/"
        },
        "id": "2qkyr9_MpmMD",
        "outputId": "10a6fea3-671b-4577-c7b7-2846d2d54bf9"
      },
      "outputs": [
        {
          "data": {
            "text/plain": [
              "tensor([[ 3.3573e+00,  3.3108e+01, -1.3398e+01],\n",
              "        [-9.1934e-04, -1.2298e+00,  6.9007e+00],\n",
              "        [-1.4826e+01, -3.6732e+00,  8.7073e+01],\n",
              "        [-4.6099e+00,  5.9958e+01, -5.2828e+01],\n",
              "        [ 4.5400e+01, -1.2516e+00,  7.6774e+00],\n",
              "        [-3.8585e+01,  2.4400e+01, -3.5071e+01],\n",
              "        [-5.5398e+01, -5.9628e+01, -3.1817e+01],\n",
              "        [ 4.6359e+01,  2.6188e+01,  1.0696e+01],\n",
              "        [ 4.3720e+01,  2.5091e+01,  1.1379e+01],\n",
              "        [-2.3941e+01, -7.5462e+01, -1.1299e-01]], device='cuda:0',\n",
              "       dtype=torch.float64, grad_fn=<DivBackward0>)"
            ]
          },
          "execution_count": 120,
          "metadata": {},
          "output_type": "execute_result"
        }
      ],
      "source": [
        "final_embed"
      ]
    },
    {
      "cell_type": "code",
      "execution_count": 124,
      "metadata": {
        "colab": {
          "base_uri": "https://localhost:8080/"
        },
        "id": "eKlOPU0gZbY7",
        "outputId": "f8986094-628d-43cc-aeb4-96110714e5f1"
      },
      "outputs": [
        {
          "data": {
            "text/plain": [
              "tensor([[0, 0, 0, 0, 0, 0, 0, 1, 0, 0],\n",
              "        [0, 0, 0, 0, 0, 0, 0, 1, 0, 0],\n",
              "        [0, 0, 0, 0, 0, 0, 0, 1, 0, 0],\n",
              "        [0, 0, 0, 0, 0, 0, 0, 1, 0, 0],\n",
              "        [0, 0, 0, 0, 0, 0, 0, 1, 0, 0],\n",
              "        [0, 0, 0, 0, 0, 0, 0, 1, 0, 0],\n",
              "        [0, 0, 0, 0, 0, 0, 0, 1, 0, 0],\n",
              "        [1, 1, 1, 1, 1, 1, 1, 0, 1, 1],\n",
              "        [0, 0, 0, 0, 0, 0, 0, 1, 0, 0],\n",
              "        [0, 0, 0, 0, 0, 0, 0, 1, 0, 0]], device='cuda:0')"
            ]
          },
          "execution_count": 124,
          "metadata": {},
          "output_type": "execute_result"
        }
      ],
      "source": [
        "((adj_cls>opt['prob_threshold'])*1).view(10,10)"
      ]
    },
    {
      "cell_type": "code",
      "execution_count": 127,
      "metadata": {
        "colab": {
          "base_uri": "https://localhost:8080/"
        },
        "id": "IjjYtd2cev5n",
        "outputId": "21ec1bf5-17ce-478f-f00e-bc8325178a0b"
      },
      "outputs": [
        {
          "data": {
            "text/plain": [
              "tensor([[0., 1., 1., 1., 1., 1., 1., 0., 0., 0.],\n",
              "        [1., 0., 1., 1., 1., 1., 1., 0., 0., 0.],\n",
              "        [1., 1., 0., 1., 1., 1., 1., 0., 0., 0.],\n",
              "        [1., 1., 1., 0., 1., 1., 1., 0., 0., 0.],\n",
              "        [1., 1., 1., 1., 0., 1., 1., 0., 0., 0.],\n",
              "        [1., 1., 1., 1., 1., 0., 1., 0., 0., 0.],\n",
              "        [1., 1., 1., 1., 1., 1., 0., 0., 0., 0.],\n",
              "        [0., 0., 0., 0., 0., 0., 0., 0., 0., 1.],\n",
              "        [0., 0., 0., 0., 0., 0., 0., 0., 0., 0.],\n",
              "        [0., 0., 0., 0., 0., 0., 0., 1., 0., 0.]], dtype=torch.float64)"
            ]
          },
          "execution_count": 127,
          "metadata": {},
          "output_type": "execute_result"
        }
      ],
      "source": [
        "fastHare_data['adj_label'].view(10,10)"
      ]
    },
    {
      "cell_type": "code",
      "execution_count": null,
      "metadata": {
        "colab": {
          "base_uri": "https://localhost:8080/"
        },
        "id": "Ie3yFLmRtbRY",
        "outputId": "2f867104-2d48-4f24-cbe1-9eb891372b2a"
      },
      "outputs": [
        {
          "data": {
            "image/png": "[encoded data removed]",
            "text/plain": [
              "<Figure size 640x480 with 1 Axes>"
            ]
          },
          "metadata": {},
          "output_type": "display_data"
        }
      ],
      "source": [
        "import matplotlib.pyplot as plt\n",
        "\n",
        "test_embed = final_embed.mean(dim=-1)\n",
        "embed_cos = torch.cos(test_embed).cpu().detach().numpy()\n",
        "embed_sin = torch.sin(test_embed).cpu().detach().numpy()\n",
        "for i in range(10):\n",
        "  plt.scatter(embed_cos[i],embed_sin[i], label=i)\n",
        "  plt.legend()\n",
        "plt.show()"
      ]
    },
    {
      "cell_type": "code",
      "execution_count": null,
      "metadata": {
        "colab": {
          "base_uri": "https://localhost:8080/"
        },
        "id": "89E9_JbW2TAE",
        "outputId": "1413c083-fc62-4ce3-9325-5e2b68352ea0"
      },
      "outputs": [
        {
          "data": {
            "text/plain": [
              "tensor([1.0000, 0.9316, 1.0000], device='cuda:0', dtype=torch.float64,\n",
              "       grad_fn=<PowBackward0>)"
            ]
          },
          "execution_count": 247,
          "metadata": {},
          "output_type": "execute_result"
        }
      ],
      "source": [
        "embed_norm = final_embed\n",
        "cos = torch.cos(embed_norm).mean(dim=0)\n",
        "sin = torch.sin(embed_norm).mean(dim=0)\n",
        "R = (cos**2+sin**2)**0.5\n",
        "R"
      ]
    },
    {
      "cell_type": "code",
      "execution_count": 107,
      "metadata": {
        "colab": {
          "base_uri": "https://localhost:8080/",
          "height": 1000
        },
        "id": "UG1tlw30xF50",
        "outputId": "b8cb99e6-13d6-400a-8a70-b270435fbf42"
      },
      "outputs": [
        {
          "name": "stdout",
          "output_type": "stream",
          "text": [
            "Euclid distance between 0 and 1 is 16.875538156701754\n",
            "Euclid distance between 0 and 2 is 17.960822040738346\n",
            "Euclid distance between 0 and 3 is 11.07655994978852\n",
            "Euclid distance between 0 and 4 is 33.013845604769124\n",
            "Euclid distance between 0 and 5 is 101.22348626490202\n",
            "Euclid distance between 0 and 6 is 18.21913612644289\n",
            "Euclid distance between 0 and 7 is 10.214730704331213\n",
            "Euclid distance between 0 and 8 is 9.636199879401104\n",
            "Euclid distance between 0 and 9 is 9.73740639296951\n",
            "Euclid distance between 1 and 2 is 1.4696808243415524\n",
            "Euclid distance between 1 and 3 is 17.2589704356666\n",
            "Euclid distance between 1 and 4 is 39.31626428834976\n",
            "Euclid distance between 1 and 5 is 101.34827808840359\n",
            "Euclid distance between 1 and 6 is 19.083189043889355\n",
            "Euclid distance between 1 and 7 is 7.473803231218487\n",
            "Euclid distance between 1 and 8 is 7.959553250891856\n",
            "Euclid distance between 1 and 9 is 8.24163700977871\n",
            "Euclid distance between 2 and 3 is 18.073150759202868\n",
            "Euclid distance between 2 and 4 is 39.22004816772045\n",
            "Euclid distance between 2 and 5 is 100.56702476854032\n",
            "Euclid distance between 2 and 6 is 18.821704203387213\n",
            "Euclid distance between 2 and 7 is 8.400966070638772\n",
            "Euclid distance between 2 and 8 is 8.832071886325258\n",
            "Euclid distance between 2 and 9 is 9.522064538375416\n",
            "Euclid distance between 3 and 4 is 39.48412405242152\n",
            "Euclid distance between 3 and 5 is 95.28942199609719\n",
            "Euclid distance between 3 and 6 is 15.911682161484089\n",
            "Euclid distance between 3 and 7 is 14.513873526316983\n",
            "Euclid distance between 3 and 8 is 13.759943569504218\n",
            "Euclid distance between 3 and 9 is 10.768028562688805\n",
            "Euclid distance between 4 and 5 is 91.44970110727367\n",
            "Euclid distance between 4 and 6 is 29.006557112881996\n",
            "Euclid distance between 4 and 7 is 33.91981497529421\n",
            "Euclid distance between 4 and 8 is 33.467415508049626\n",
            "Euclid distance between 4 and 9 is 38.40702138502618\n",
            "Euclid distance between 5 and 6 is 84.60169813822452\n",
            "Euclid distance between 5 and 7 is 101.21477383450306\n",
            "Euclid distance between 5 and 8 is 100.38006259091247\n",
            "Euclid distance between 5 and 9 is 101.79190535695389\n",
            "Euclid distance between 6 and 7 is 16.774563421006892\n",
            "Euclid distance between 6 and 8 is 15.89288610655683\n",
            "Euclid distance between 6 and 9 is 18.209071715437645\n",
            "Euclid distance between 7 and 8 is 1.0135707685739934\n",
            "Euclid distance between 7 and 9 is 5.653505298747407\n",
            "Euclid distance between 8 and 9 is 5.567881865652704\n"
          ]
        },
        {
          "data": {
            "image/png": "[encoded data removed]",
            "text/plain": [
              "<Figure size 640x480 with 1 Axes>"
            ]
          },
          "metadata": {},
          "output_type": "display_data"
        }
      ],
      "source": [
        "import matplotlib.pyplot as plt\n",
        "for i in range(10):\n",
        "  for j in range(i+1,10):\n",
        "    distance = final_embed[i,:] - final_embed[j,:]\n",
        "    distance = distance**2\n",
        "    distance = distance.sum(dim=-1)\n",
        "    distance = torch.sqrt(distance)\n",
        "    print(f\"Euclid distance between {i} and {j} is {distance}\") \n",
        "  plt.scatter(model.embed.cpu().weight[i,0].detach().numpy(), model.embed.cpu().weight[i,1].detach().numpy(), label=i)\n",
        "  plt.legend()"
      ]
    },
    {
      "cell_type": "code",
      "execution_count": null,
      "metadata": {
        "colab": {
          "base_uri": "https://localhost:8080/"
        },
        "id": "848Y-ZvpO1ei",
        "outputId": "73c822cf-c4ae-46f8-8436-39bdea1a533c"
      },
      "outputs": [
        {
          "data": {
            "text/plain": [
              "tensor([0, 0, 1, 1, 2, 2, 0, 1, 1, 1], device='cuda:0')"
            ]
          },
          "execution_count": 83,
          "metadata": {},
          "output_type": "execute_result"
        }
      ],
      "source": [
        "torch.argmax(final_embed, dim=1)\n"
      ]
    },
    {
      "cell_type": "code",
      "execution_count": null,
      "metadata": {
        "colab": {
          "base_uri": "https://localhost:8080/"
        },
        "id": "NGfE2wNm5Dqu",
        "outputId": "e50abfd4-3556-4217-a7b7-6b33c7b4106b"
      },
      "outputs": [
        {
          "data": {
            "text/plain": [
              "tensor([[-0.7483, -0.6340,  1.9541],\n",
              "        [-0.0116, -0.1998, -3.6641],\n",
              "        [-0.1927, -0.3101, -4.3090],\n",
              "        [-0.8823, -0.6618,  2.1148],\n",
              "        [-0.8458, -0.9371,  2.1291],\n",
              "        [-0.8503, -0.6806,  2.1069],\n",
              "        [-0.9158, -1.0127,  1.9387],\n",
              "        [-0.8231, -0.6927,  2.2019],\n",
              "        [-0.8242, -0.6823,  2.1781],\n",
              "        [-1.2031, -0.4578,  2.0829],\n",
              "        [-0.7367, -0.6270,  2.1235]], device='cuda:0', grad_fn=<AddBackward0>)"
            ]
          },
          "execution_count": 172,
          "metadata": {},
          "output_type": "execute_result"
        }
      ],
      "source": [
        "final_embed"
      ]
    },
    {
      "cell_type": "code",
      "execution_count": null,
      "metadata": {
        "colab": {
          "base_uri": "https://localhost:8080/",
          "height": 653
        },
        "id": "5xnm9uDd4lhQ",
        "outputId": "d9ea37a1-c5ee-46d8-f1db-1ef3e7c45355"
      },
      "outputs": [
        {
          "data": {
            "image/png": "[encoded data removed]",
            "text/plain": [
              "<Figure size 1000x800 with 1 Axes>"
            ]
          },
          "metadata": {},
          "output_type": "display_data"
        }
      ],
      "source": [
        "import matplotlib.pyplot as plt\n",
        "\n",
        "fig = plt.figure(figsize=(10,8))\n",
        "\n",
        "ax = fig.add_subplot(projection='3d')\n",
        "plot_data = final_embed.cpu().detach().numpy()\n",
        "ax.scatter(plot_data[:-1,0], plot_data[:-1,1], plot_data[:-1,2], c=[0,1,2,3,4,5,6,7,8,9])\n",
        "plt.show()"
      ]
    },
    {
      "cell_type": "code",
      "execution_count": null,
      "metadata": {
        "id": "d46jZfJkyCpu"
      },
      "outputs": [],
      "source": [
        "model.embed.weight[:,0].detach().numpy()"
      ]
    },
    {
      "cell_type": "code",
      "execution_count": null,
      "metadata": {
        "id": "zyQIqjl8M6St"
      },
      "outputs": [],
      "source": [
        "from itertools import chain, islice, combinations\n",
        "\n",
        "def gen_combinations(combs, chunk_size):\n",
        "    yield from iter(lambda: list(islice(combs, chunk_size)), [])\n",
        "\n",
        "# Calculate results given bitstring and graph definition, includes check for violations\n",
        "def postprocess_gnn_mis(best_bitstring, nx_graph):\n",
        "    \"\"\"\n",
        "    helper function to postprocess MIS results\n",
        "\n",
        "    Input:\n",
        "        best_bitstring: bitstring as torch tensor\n",
        "    Output:\n",
        "        size_mis: Size of MIS (int)\n",
        "        ind_set: MIS (list of integers)\n",
        "        number_violations: number of violations of ind.set condition\n",
        "    \"\"\"\n",
        "\n",
        "    # get bitstring as list\n",
        "    bitstring_list = list(best_bitstring)\n",
        "\n",
        "    # compute cost\n",
        "    size_mis = sum(bitstring_list)\n",
        "\n",
        "    # get independent set\n",
        "    ind_set = set([node for node, entry in enumerate(bitstring_list) if entry == 1])\n",
        "    edge_set = set(list(nx_graph.edges))\n",
        "\n",
        "    print('Calculating violations...')\n",
        "    # check for violations\n",
        "    number_violations = 0\n",
        "    for ind_set_chunk in gen_combinations(combinations(ind_set, 2), 100000):\n",
        "        number_violations += len(set(ind_set_chunk).intersection(edge_set))\n",
        "\n",
        "    return size_mis, ind_set, number_violations\n"
      ]
    },
    {
      "cell_type": "code",
      "execution_count": null,
      "metadata": {
        "id": "RDRSTqIW9Jh5"
      },
      "outputs": [],
      "source": [
        "final_loss = loss_func(best_bitstring.float(), q_torch)\n",
        "final_bitstring_str = ','.join([str(x) for x in best_bitstring])\n",
        "\n",
        "# Process bitstring reported by GNN\n",
        "size_mis, ind_set, number_violations = postprocess_gnn_mis(best_bitstring, nx_graph)\n",
        "# gnn_tot_time = time() - gnn_start\n",
        "\n",
        "print(f'Independence number found by GNN is {size_mis} with {number_violations} violations')\n",
        "# print(f'Took {round(gnn_tot_time, 3)}s, model training took {round(gnn_time, 3)}s')\n"
      ]
    },
    {
      "cell_type": "code",
      "execution_count": null,
      "metadata": {
        "id": "EiWvbDveMfIB"
      },
      "outputs": [],
      "source": [
        "# Visualize result\n",
        "# Note no light-blue nodes are connected by an edge\n",
        "pos = nx.kamada_kawai_layout(nx_graph)\n",
        "# nx.draw_networkx(nx_graph, pos, with_labels=True, node_color=[[.7, .7, .7]])\n",
        "import matplotlib.pyplot as plt                            # 追加\n",
        "fig = plt.figure()                                         # 追加 \n",
        "ax = fig.add_axes([0, 0, 1, 1])                            # 追加\n",
        "\n",
        "color_map = ['orange' if (best_bitstring[node]==0) else 'lightblue' for node in nx_graph.nodes]\n",
        "nx.draw(nx_graph, pos, ax=ax, with_labels=True, node_color=color_map)\n"
      ]
    },
    {
      "cell_type": "code",
      "execution_count": null,
      "metadata": {
        "id": "n97xK2RqRv-k"
      },
      "outputs": [],
      "source": []
    }
  ],
  "metadata": {
    "accelerator": "GPU",
    "colab": {
      "provenance": []
    },
    "gpuClass": "standard",
    "kernelspec": {
      "display_name": "Python 3.8.16 ('QuantML': conda)",
      "language": "python",
      "name": "python3"
    },
    "language_info": {
      "codemirror_mode": {
        "name": "ipython",
        "version": 3
      },
      "file_extension": ".py",
      "mimetype": "text/x-python",
      "name": "python",
      "nbconvert_exporter": "python",
      "pygments_lexer": "ipython3",
      "version": "3.8.16"
    },
    "vscode": {
      "interpreter": {
        "hash": "26e4eea1982a33aee84448a70b9a2d4b66974894b9fe6d0cccba86cda4579996"
      }
    }
  },
  "nbformat": 4,
  "nbformat_minor": 0
}
